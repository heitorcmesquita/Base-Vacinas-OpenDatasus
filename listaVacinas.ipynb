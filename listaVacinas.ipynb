{
  "nbformat": 4,
  "nbformat_minor": 0,
  "metadata": {
    "colab": {
      "name": "listaVacinas.ipynb",
      "provenance": [],
      "collapsed_sections": []
    },
    "kernelspec": {
      "name": "python3",
      "display_name": "Python 3"
    },
    "language_info": {
      "name": "python"
    }
  },
  "cells": [
    {
      "cell_type": "code",
      "metadata": {
        "colab": {
          "base_uri": "https://localhost:8080/"
        },
        "id": "T5-K7Inm9y6K",
        "outputId": "675f2fd2-a226-44f5-f179-4dda187e6742"
      },
      "source": [
        "import pandas as pd\n",
        "from google.colab import drive\n",
        "drive.mount('/content/drive')\n",
        "!mkdir -p \"drive/MyDrive/Colab Notebooks/vacinação\"\n",
        "#Fazendo download do arquivo\n",
        "!wget -O \"drive/MyDrive/Colab Notebooks/vacinação/buscarvacinados.csv\" echo \"https://s3-sa-east-1.amazonaws.com/ckan.saude.gov.br/PNI/vacina/completo/2021-06-27/part-00000-67b39d53-ad0d-49a1-ba9f-9c900e6940e1-c000.csv\"\n"
      ],
      "execution_count": 1,
      "outputs": [
        {
          "output_type": "stream",
          "text": [
            "Mounted at /content/drive\n",
            "--2021-06-28 14:19:14--  http://echo/\n",
            "Resolving echo (echo)... failed: Name or service not known.\n",
            "wget: unable to resolve host address ‘echo’\n",
            "--2021-06-28 14:19:14--  https://s3-sa-east-1.amazonaws.com/ckan.saude.gov.br/PNI/vacina/completo/2021-06-27/part-00000-67b39d53-ad0d-49a1-ba9f-9c900e6940e1-c000.csv\n",
            "Resolving s3-sa-east-1.amazonaws.com (s3-sa-east-1.amazonaws.com)... 52.95.163.18\n",
            "Connecting to s3-sa-east-1.amazonaws.com (s3-sa-east-1.amazonaws.com)|52.95.163.18|:443... connected.\n",
            "HTTP request sent, awaiting response... 200 OK\n",
            "Length: 48328328868 (45G) [text/csv]\n",
            "Saving to: ‘drive/MyDrive/Colab Notebooks/vacinação/buscarvacinados.csv’\n",
            "\n",
            "drive/MyDrive/Colab 100%[===================>]  45.01G  24.8MB/s    in 31m 56s \n",
            "\n",
            "2021-06-28 14:51:11 (24.1 MB/s) - ‘drive/MyDrive/Colab Notebooks/vacinação/buscarvacinados.csv’ saved [48328328868/48328328868]\n",
            "\n",
            "FINISHED --2021-06-28 14:51:11--\n",
            "Total wall clock time: 32m 5s\n",
            "Downloaded: 1 files, 45G in 31m 56s (24.1 MB/s)\n"
          ],
          "name": "stdout"
        }
      ]
    },
    {
      "cell_type": "code",
      "metadata": {
        "id": "68SqAyDQ_Dhp"
      },
      "source": [
        "lista = pd.DataFrame()\n",
        "for chunk in pd.read_csv('drive/MyDrive/Colab Notebooks/vacinação/buscarvacinados.csv', sep = ';', encoding = 'utf-8', chunksize = 100000):\n",
        "  buscar = list(set(chunk['vacina_fabricante_nome']))\n",
        "  lista = lista.append(buscar)\n",
        "lista = set(lista)"
      ],
      "execution_count": null,
      "outputs": []
    },
    {
      "cell_type": "code",
      "metadata": {
        "id": "A5S0qzEfALv_"
      },
      "source": [
        "lista.to_csv(\"drive/MyDrive/Colab Notebooks/vacinação/lista.csv\", sep = ';')\n",
        "remove(\"drive/MyDrive/Colab Notebooks/vacinação/buscarvacinados.csv\")"
      ],
      "execution_count": null,
      "outputs": []
    }
  ]
}